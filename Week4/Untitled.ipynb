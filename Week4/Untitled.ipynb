{
 "cells": [
  {
   "cell_type": "code",
   "execution_count": 1,
   "id": "16daf77c",
   "metadata": {},
   "outputs": [
    {
     "name": "stdout",
     "output_type": "stream",
     "text": [
      "Enter products categories or subcategories URL: https://yoshops.com/t/food\n"
     ]
    }
   ],
   "source": [
    "import urllib.request\n",
    "from bs4 import BeautifulSoup\n",
    "import pandas as pd\n",
    "\n",
    "userInput = input(\"Enter products categories or subcategories URL: \")\n",
    "url = userInput\n",
    "page = urllib.request.urlopen(url)\n",
    "soup = BeautifulSoup(page, 'html.parser')\n",
    "\n",
    "products = soup.find_all('div', class_='product')\n",
    "missing_image_products = []\n",
    "\n",
    "for product in products:\n",
    "    image = product.find('img')\n",
    "    if image['src'] == \"//onlinestore.wsimg.com/assets/noimage/product-5fec99477aebb10bac85d82665ec1497de4536cda3279e59089555c45cf589fa.png\":\n",
    "        name = product.find('span',class_=\"product-title\").text\n",
    "        details = product.find('div',class_=\"product-price\").text\n",
    "        \n",
    "        missing_image_products.append({\n",
    "            'web url': url,\n",
    "            'product name': name,\n",
    "            'product prices': details\n",
    "        })\n",
    "\n",
    "df = pd.DataFrame(missing_image_products)\n",
    "df.to_excel('missing_image_products.xlsx', index=False)"
   ]
  }
 ],
 "metadata": {
  "kernelspec": {
   "display_name": "Python 3 (ipykernel)",
   "language": "python",
   "name": "python3"
  },
  "language_info": {
   "codemirror_mode": {
    "name": "ipython",
    "version": 3
   },
   "file_extension": ".py",
   "mimetype": "text/x-python",
   "name": "python",
   "nbconvert_exporter": "python",
   "pygments_lexer": "ipython3",
   "version": "3.11.2"
  }
 },
 "nbformat": 4,
 "nbformat_minor": 5
}
