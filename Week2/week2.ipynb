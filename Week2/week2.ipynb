{
 "cells": [
  {
   "cell_type": "code",
   "execution_count": 33,
   "id": "5f45f1c3",
   "metadata": {
    "scrolled": true
   },
   "outputs": [
    {
     "name": "stdout",
     "output_type": "stream",
     "text": [
      "Main Categories: \n",
      "SHOP \n",
      "Toys & Games \n",
      "Mobiles \n",
      "Laptops \n",
      "Accessories \n",
      "Electronics \n",
      "Home & Kitchen \n",
      "Fashion \n",
      "Foods \n",
      "Services \n"
     ]
    }
   ],
   "source": [
    "import requests\n",
    "from bs4 import BeautifulSoup\n",
    "import pandas as pd\n",
    "\n",
    "#header\n",
    "headers = {'User-Agent': 'Mozilla/5.0 (Macintosh; Intel Mac OS X 10_11_5) AppleWebKit/537.36 (KHTML, like Gecko) Chrome/50.0.2661.102 Safari/537.36'}\n",
    "\n",
    "# Define the URL of the products page\n",
    "homepage = input('Enter home page URL: ')\n",
    "productsURl = input('Enter Products category page URL: ')\n",
    "\n",
    "# Send a GET request to the URL and get the HTML content\n",
    "response = requests.get(productsurl,headers=headers)\n",
    "html_content = response.content\n",
    "\n",
    "# Parse the HTML content using BeautifulSoup\n",
    "soup = BeautifulSoup(html_content, \"html.parser\")\n",
    "#print(soup)\n",
    "\n",
    "# Find all the main categories\n",
    "main_categories = soup.select('li.dropdown > a')\n",
    "print(\"Main Categories: \")\n",
    "for category in main_categories:\n",
    "    print(category.text)\n",
    "\n",
    "# Create an empty list to store the products count by categories and subcategories\n",
    "data = []\n",
    "\n",
    "# Loop through each main category\n",
    "for main_category in main_categories:\n",
    "    main_category_name = main_category.text.strip()\n",
    "    main_category_count = 0\n",
    "    \n",
    "    # Find all the subcategories of the main category\n",
    "    subcategories = soup.select('li.dropdown > ul')\n",
    "\n",
    "    # Loop through each subcategory\n",
    "    for subcategory in subcategories:\n",
    "        subcategory_name = subcategory.find(\"li\").text.strip()\n",
    "        subcategory_count = len(subcategory.find_all(\"li\"))\n",
    "        main_category_count += subcategory_count\n",
    "        \n",
    "        # Add the product count by subcategory to the data list\n",
    "        data.append([main_category_name, subcategory_name, subcategory_count])\n",
    "    \n",
    "    # Add the total product count by main category to the data list\n",
    "    data.append([main_category_name, \"Total\", main_category_count])\n",
    "\n",
    "# Create a pandas DataFrame from the data list\n",
    "df = pd.DataFrame(data, columns=[\"Category\", \"Subcategory\", \"Count\"])\n",
    "\n",
    "# Write the DataFrame to an Excel file\n",
    "with pd.ExcelWriter(\"product_counts.xlsx\") as writer:\n",
    "    df.to_excel(writer, index=False)\n"
   ]
  }
 ],
 "metadata": {
  "kernelspec": {
   "display_name": "Python 3 (ipykernel)",
   "language": "python",
   "name": "python3"
  },
  "language_info": {
   "codemirror_mode": {
    "name": "ipython",
    "version": 3
   },
   "file_extension": ".py",
   "mimetype": "text/x-python",
   "name": "python",
   "nbconvert_exporter": "python",
   "pygments_lexer": "ipython3",
   "version": "3.11.2"
  }
 },
 "nbformat": 4,
 "nbformat_minor": 5
}
