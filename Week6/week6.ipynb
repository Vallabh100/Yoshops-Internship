{
 "cells": [
  {
   "cell_type": "markdown",
   "id": "0332a26c",
   "metadata": {},
   "source": [
    "### Merging two excel files"
   ]
  },
  {
   "cell_type": "code",
   "execution_count": 3,
   "id": "7baff5ac",
   "metadata": {},
   "outputs": [],
   "source": [
    "import pandas as pd\n",
    "\n",
    "# Load the first excel file\n",
    "df1 = pd.read_excel('file1.xlsx')\n",
    "\n",
    "# Load the second excel file\n",
    "df2 = pd.read_excel('file2.xlsx')\n",
    "\n",
    "# Merge the two dataframes\n",
    "merged_df = pd.concat([df1, df2])\n",
    "\n",
    "# Save the merged dataframe to a new excel file\n",
    "merged_df.to_excel('merged_file.xlsx',index= False)"
   ]
  },
  {
   "cell_type": "markdown",
   "id": "06118f15",
   "metadata": {},
   "source": [
    "### Sort Files into different folders"
   ]
  },
  {
   "cell_type": "code",
   "execution_count": 1,
   "id": "0d7c5a30",
   "metadata": {},
   "outputs": [],
   "source": [
    "import os\n",
    "import shutil\n",
    "\n",
    "main_folder = 'V:\\Yoshops intership\\Week6\\main'\n",
    "child_folders = ['folder1', 'folder2', 'folder3', 'folder4']\n",
    "\n",
    "files = os.listdir(main_folder)\n",
    "files.sort()\n",
    "\n",
    "for i in range(len(files)):\n",
    "    file = files[i]\n",
    "    file_path = os.path.join(main_folder, file)\n",
    "    if os.path.isfile(file_path):\n",
    "        child_folder = child_folders[i % len(child_folders)]\n",
    "        shutil.move(file_path, os.path.join(main_folder, child_folder, file))"
   ]
  },
  {
   "cell_type": "markdown",
   "id": "54422ed4",
   "metadata": {},
   "source": [
    "### Separate duplicates files"
   ]
  },
  {
   "cell_type": "code",
   "execution_count": 2,
   "id": "67161d5d",
   "metadata": {},
   "outputs": [],
   "source": [
    "import pandas as pd\n",
    "\n",
    "# Load the main and test data excel files\n",
    "main_df = pd.read_excel('main.xlsx')\n",
    "test_df = pd.read_excel('test.xlsx')\n",
    "\n",
    "# Find the rows in the test data that have the same mobile number as in the main data\n",
    "duplicate_rows = test_df[test_df['mobile_number'].isin(main_df['mobile_number'])]\n",
    "\n",
    "# Save the duplicate rows to a new excel file\n",
    "duplicate_rows.to_excel('duplicates.xlsx', index=False)"
   ]
  },
  {
   "cell_type": "markdown",
   "id": "7b73cb6b",
   "metadata": {},
   "source": [
    "### sort files in a folder based on a keyword and move them to a new folder"
   ]
  },
  {
   "cell_type": "code",
   "execution_count": 3,
   "id": "999ecccd",
   "metadata": {},
   "outputs": [
    {
     "name": "stdout",
     "output_type": "stream",
     "text": [
      "Enter path to folder : aufhu\n",
      "Enter new folder name : jbdv\n",
      "Enter a keyword to search for : sdbv\n"
     ]
    }
   ],
   "source": [
    "import os\n",
    "import shutil\n",
    "\n",
    "# Set the input values\n",
    "folder_path = input(\"Enter path to folder : \")\n",
    "new_folder_name = input(\"Enter new folder name : \")\n",
    "search_keyword = input(\"Enter a keyword to search for : \")\n",
    "\n",
    "# Create the new folder\n",
    "new_folder_path = os.path.join(folder_path, new_folder_name)\n",
    "os.makedirs(new_folder_path)\n",
    "\n",
    "# Get the list of files in the folder\n",
    "files = os.listdir(folder_path)\n",
    "\n",
    "# Iterate over each file\n",
    "for file in files:\n",
    "    # Check if the file name contains the search keyword\n",
    "    if search_keyword in file:\n",
    "        # Construct the source and destination paths\n",
    "        src_path = os.path.join(folder_path, file)\n",
    "        dst_path = os.path.join(new_folder_path, file)\n",
    "        \n",
    "        # Move the file to the new folder\n",
    "        shutil.move(src_path, dst_path)"
   ]
  }
 ],
 "metadata": {
  "kernelspec": {
   "display_name": "Python 3 (ipykernel)",
   "language": "python",
   "name": "python3"
  },
  "language_info": {
   "codemirror_mode": {
    "name": "ipython",
    "version": 3
   },
   "file_extension": ".py",
   "mimetype": "text/x-python",
   "name": "python",
   "nbconvert_exporter": "python",
   "pygments_lexer": "ipython3",
   "version": "3.11.2"
  }
 },
 "nbformat": 4,
 "nbformat_minor": 5
}
