{
 "cells": [
  {
   "cell_type": "code",
   "execution_count": 1,
   "id": "5f317c70",
   "metadata": {},
   "outputs": [],
   "source": [
    "# Task-8\n",
    "# Ambur Biryani Billing System:\n",
    "# Create a Billing system where  input value:\n",
    "# Name:\n",
    "# Phone no:\n",
    "# Food item no:\n",
    "# Output: Generated bill and save bill in folder."
   ]
  },
  {
   "cell_type": "code",
   "execution_count": 18,
   "id": "0cd05f47",
   "metadata": {},
   "outputs": [
    {
     "name": "stdout",
     "output_type": "stream",
     "text": [
      "Enter name : Vallabh Nerlekar\n",
      "Enter phone number : 8010524749\n",
      "Enter item number ordered : 3\n",
      "Enter number of items ordered : 2\n"
     ]
    },
    {
     "data": {
      "text/plain": [
       "''"
      ]
     },
     "execution_count": 18,
     "metadata": {},
     "output_type": "execute_result"
    }
   ],
   "source": [
    "from fpdf import FPDF\n",
    "\n",
    "# Define the PDF document\n",
    "class PDF(FPDF):\n",
    "    def header(self):\n",
    "        # Logo\n",
    "        logo_width = 33\n",
    "        page_width = self.w - 2 * self.l_margin\n",
    "        logo_x = (page_width - logo_width) / 2\n",
    "        self.image('logo.jpg', self.l_margin + logo_x, 8, logo_width)\n",
    "\n",
    "        # Title\n",
    "        self.set_xy(0, 40)\n",
    "        self.set_font('Arial', 'B', 15)\n",
    "        pdf.ln(20)\n",
    "        self.cell(0, 10, 'Invoice', 0, 0, 'C')\n",
    "        self.ln()\n",
    "\n",
    "        # Table\n",
    "        self.set_font('Arial', 'B', 12)\n",
    "        self.cell(40, 10, 'Name:', border=1)\n",
    "        self.cell(80, 10, name, border=1)\n",
    "        self.ln()\n",
    "        self.cell(40, 10, 'Phone Number:', border=1)\n",
    "        self.cell(80, 10, phone_number, border=1)\n",
    "        self.ln()\n",
    "        self.cell(40, 10, 'Item Ordered:', border=1)\n",
    "        self.cell(80, 10, item_ordered, border=1)\n",
    "        self.ln()\n",
    "        self.cell(40, 10, 'Item Price:', border=1)\n",
    "        self.cell(80, 10, str(Ordered_item_price), border=1)\n",
    "        self.ln()\n",
    "        self.cell(40, 10, 'Number of Items:', border=1)\n",
    "        self.cell(80, 10, str(number_of_items), border=1)\n",
    "        self.ln()\n",
    "        self.cell(40, 10, 'Total Bill:', border=1)\n",
    "        self.cell(80, 10, str(total_bill), border=1)\n",
    "        self.ln()\n",
    "\n",
    "    # Page footer\n",
    "    def footer(self):\n",
    "        # Position at 1.5 cm from bottom\n",
    "        self.set_y(-15)\n",
    "        # Arial italic 8\n",
    "        self.set_font('Arial', 'I', 8)\n",
    "        # Page number\n",
    "        self.cell(0, 10, 'Page ' + str(self.page_no()), 0, 0, 'C')\n",
    "\n",
    "# Get input from user\n",
    "name = input(\"Enter name : \")\n",
    "phone_number = input(\"Enter phone number : \")\n",
    "item_number = int(input(\"Enter item number ordered : \"))\n",
    "number_of_items = int(input(\"Enter number of items ordered : \"))\n",
    "\n",
    "items = ['Chicken Biryani 1kg','Chicken Biryani 1/2kg','Chicken Biryani 1/4kg','Kushka 1kg','Kushka 1/2kg','Kushka 1/4kg','Egg Biryani 1kg','Egg Biryani 1/2kg','Mutton Biryani 1kg','Mutton Biryani 1/2kg','Chicken Pakodai 100gm']\n",
    "item_price = [170, 120, 80, 110, 70, 50, 120, 80, 260, 190, 60]\n",
    "\n",
    "total_bill = item_price[item_number] * number_of_items\n",
    "item_ordered = items[item_number]\n",
    "Ordered_item_price = item_price[item_number]\n",
    "\n",
    "# Create PDF object\n",
    "pdf = PDF()\n",
    "pdf.add_page()\n",
    "\n",
    "# Set font\n",
    "pdf.set_font('Arial', 'B', 16)\n",
    "\n",
    "# Set font for table\n",
    "pdf.set_font('Arial', '', 11)\n",
    "\n",
    "# Table header\n",
    "pdf.cell(40, 10, 'Item', border=1)\n",
    "pdf.cell(40, 10, 'Price', border=1)\n",
    "pdf.cell(40, 10, 'Quantity', border=1)\n",
    "pdf.cell(40, 10, 'Total', border=1)\n",
    "pdf.ln()\n",
    "\n",
    "# Table rows\n",
    "pdf.cell(40, 10, item_ordered, border=1)\n",
    "pdf.cell(40, 10, str(Ordered_item_price), border=1)\n",
    "pdf.cell(40, 10, str(number_of_items), border=1)\n",
    "pdf.cell(40, 10, str(total_bill), border=1)\n",
    "pdf.ln()\n",
    "\n",
    "# Output the PDF\n",
    "pdf.output('bill.pdf', 'F')"
   ]
  }
 ],
 "metadata": {
  "kernelspec": {
   "display_name": "Python 3 (ipykernel)",
   "language": "python",
   "name": "python3"
  },
  "language_info": {
   "codemirror_mode": {
    "name": "ipython",
    "version": 3
   },
   "file_extension": ".py",
   "mimetype": "text/x-python",
   "name": "python",
   "nbconvert_exporter": "python",
   "pygments_lexer": "ipython3",
   "version": "3.11.2"
  }
 },
 "nbformat": 4,
 "nbformat_minor": 5
}
