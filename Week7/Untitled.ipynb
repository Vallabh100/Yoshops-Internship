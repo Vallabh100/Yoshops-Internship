{
 "cells": [
  {
   "cell_type": "markdown",
   "id": "f37716dd",
   "metadata": {},
   "source": [
    "# December Payroll ATS"
   ]
  },
  {
   "cell_type": "code",
   "execution_count": 55,
   "id": "b3d635b6",
   "metadata": {},
   "outputs": [],
   "source": [
    "import pandas as pd\n",
    "\n",
    "# Read data from Excel file\n",
    "df = pd.read_excel(\"DecemberSheet.xlsx\")\n",
    "\n",
    "# Calculate Chennai revenue\n",
    "chennai_revenue = df.groupby(\"Department\")[\"Chennai\"].sum()\n",
    "\n",
    "# Calculate Sambhajinagar revenue\n",
    "sambhajinagar_revenue = df.groupby(\"Department\")[\"Sambhajinagar\"].sum()\n",
    "\n",
    "# Calculate total revenue\n",
    "total_revenue = df[\"Fees\"].sum()\n",
    "\n",
    "# Generate monthly pay slips\n",
    "pay_slips = df[[\"Department\", \"Chennai\", \"Sambhajinagar\"]]\n",
    "\n",
    "# Calculate cash flow report\n",
    "chennai_cash_flow = df.groupby(\"Department\")[\"Chennai\"].sum()\n",
    "sambhajinagar_cash_flow = df.groupby(\"Department\")[\"Sambhajinagar\"].sum()\n",
    "\n",
    "# Calculate balance sheet report\n",
    "chennai_balance_sheet = chennai_revenue\n",
    "sambhajinagar_balance_sheet = sambhajinagar_revenue\n",
    "\n",
    "# Calculate stakeholder distribution report\n",
    "chennai_profit = chennai_balance_sheet[\"Data Science\"] + chennai_balance_sheet[\"Data Analyst\"]\n",
    "sambhajinagar_profit = sambhajinagar_balance_sheet[\"Data Science\"] + sambhajinagar_balance_sheet[\"Data Analyst\"]"
   ]
  },
  {
   "cell_type": "code",
   "execution_count": 56,
   "id": "af9838ab",
   "metadata": {},
   "outputs": [
    {
     "name": "stdout",
     "output_type": "stream",
     "text": [
      "Pay slips generate monthly one time:\n",
      "       Department  Chennai  Sambhajinagar\n",
      "0    Data Science      100            399\n",
      "1    Data Science      100            399\n",
      "2    Data Science      100            399\n",
      "3    Data Science      100            399\n",
      "4    Data Analyst      200            299\n",
      "..            ...      ...            ...\n",
      "118  Data Science      100            399\n",
      "119  Data Science      100            399\n",
      "120  Data Science      100            399\n",
      "121  Data Science      100            399\n",
      "122  Data Science      100            399\n",
      "\n",
      "[123 rows x 3 columns]\n"
     ]
    }
   ],
   "source": [
    "print(\"Pay slips generate monthly one time:\")\n",
    "print(pay_slips)"
   ]
  },
  {
   "cell_type": "code",
   "execution_count": 57,
   "id": "e0e5d758",
   "metadata": {},
   "outputs": [
    {
     "name": "stdout",
     "output_type": "stream",
     "text": [
      "Cash flow report:\n",
      "\n",
      "Chennai:\n",
      " Department\n",
      "Data Analyst      999\n",
      "Data Science    15296\n",
      "Name: Chennai, dtype: int64\n",
      "\n",
      "Sambhajinagar:\n",
      " Department\n",
      "Data Analyst     1496\n",
      "Data Science    43586\n",
      "Name: Sambhajinagar, dtype: int64\n"
     ]
    }
   ],
   "source": [
    "print(\"Cash flow report:\\n\")\n",
    "print(\"Chennai:\\n\", chennai_cash_flow)\n",
    "print(\"\\nSambhajinagar:\\n\", sambhajinagar_cash_flow)"
   ]
  },
  {
   "cell_type": "code",
   "execution_count": 58,
   "id": "20ecd404",
   "metadata": {},
   "outputs": [
    {
     "name": "stdout",
     "output_type": "stream",
     "text": [
      "\n",
      "Balance Sheet report:\n",
      "\n",
      "Chennai:\n",
      "\n",
      " Department\n",
      "Data Analyst      999\n",
      "Data Science    15296\n",
      "Name: Chennai, dtype: int64\n",
      "\n",
      "\n",
      "Sambhajinagar:\n",
      "\n",
      " Department\n",
      "Data Analyst     1496\n",
      "Data Science    43586\n",
      "Name: Sambhajinagar, dtype: int64\n"
     ]
    }
   ],
   "source": [
    "print(\"\\nBalance Sheet report:\\n\")\n",
    "print(\"Chennai:\\n\\n\", chennai_balance_sheet)\n",
    "print(\"\\n\\nSambhajinagar:\\n\\n\", sambhajinagar_balance_sheet)"
   ]
  },
  {
   "cell_type": "code",
   "execution_count": 59,
   "id": "3664abdd",
   "metadata": {
    "scrolled": true
   },
   "outputs": [
    {
     "name": "stdout",
     "output_type": "stream",
     "text": [
      "Stack holder distribute(profit) report:\n",
      "\n",
      "Chennai Total Profit :  16295\n",
      "Sambhajinagar Franchise Total Profit :  45082\n"
     ]
    }
   ],
   "source": [
    "print(\"Stack holder distribute(profit) report:\")\n",
    "print(\"\\nChennai Total Profit : \",chennai_profit)\n",
    "print(\"Sambhajinagar Franchise Total Profit : \",sambhajinagar_profit)"
   ]
  },
  {
   "cell_type": "markdown",
   "id": "44d23a3d",
   "metadata": {},
   "source": [
    "# November Payroll ATS"
   ]
  },
  {
   "cell_type": "code",
   "execution_count": 1,
   "id": "2e55c4ad",
   "metadata": {},
   "outputs": [
    {
     "ename": "KeyError",
     "evalue": "'Column not found: Sambhajinagar'",
     "output_type": "error",
     "traceback": [
      "\u001b[1;31m---------------------------------------------------------------------------\u001b[0m",
      "\u001b[1;31mKeyError\u001b[0m                                  Traceback (most recent call last)",
      "Cell \u001b[1;32mIn[1], line 10\u001b[0m\n\u001b[0;32m      7\u001b[0m chennai_revenue \u001b[38;5;241m=\u001b[39m df1\u001b[38;5;241m.\u001b[39mgroupby(\u001b[38;5;124m\"\u001b[39m\u001b[38;5;124mDepartment\u001b[39m\u001b[38;5;124m\"\u001b[39m)[\u001b[38;5;124m\"\u001b[39m\u001b[38;5;124mChennai\u001b[39m\u001b[38;5;124m\"\u001b[39m]\u001b[38;5;241m.\u001b[39msum()\n\u001b[0;32m      9\u001b[0m \u001b[38;5;66;03m# Calculate Sambhajinagar revenue\u001b[39;00m\n\u001b[1;32m---> 10\u001b[0m sambhajinagar_revenue \u001b[38;5;241m=\u001b[39m \u001b[43mdf1\u001b[49m\u001b[38;5;241;43m.\u001b[39;49m\u001b[43mgroupby\u001b[49m\u001b[43m(\u001b[49m\u001b[38;5;124;43m\"\u001b[39;49m\u001b[38;5;124;43mDepartment\u001b[39;49m\u001b[38;5;124;43m\"\u001b[39;49m\u001b[43m)\u001b[49m\u001b[43m[\u001b[49m\u001b[38;5;124;43m\"\u001b[39;49m\u001b[38;5;124;43mSambhajinagar\u001b[39;49m\u001b[38;5;124;43m\"\u001b[39;49m\u001b[43m]\u001b[49m\u001b[38;5;241m.\u001b[39msum()\n\u001b[0;32m     12\u001b[0m \u001b[38;5;66;03m# Calculate total revenue\u001b[39;00m\n\u001b[0;32m     13\u001b[0m total_revenue \u001b[38;5;241m=\u001b[39m df1[\u001b[38;5;124m\"\u001b[39m\u001b[38;5;124mFees\u001b[39m\u001b[38;5;124m\"\u001b[39m]\u001b[38;5;241m.\u001b[39msum()\n",
      "File \u001b[1;32m~\\AppData\\Roaming\\Python\\Python311\\site-packages\\pandas\\core\\groupby\\generic.py:1416\u001b[0m, in \u001b[0;36mDataFrameGroupBy.__getitem__\u001b[1;34m(self, key)\u001b[0m\n\u001b[0;32m   1407\u001b[0m \u001b[38;5;28;01mif\u001b[39;00m \u001b[38;5;28misinstance\u001b[39m(key, \u001b[38;5;28mtuple\u001b[39m) \u001b[38;5;129;01mand\u001b[39;00m \u001b[38;5;28mlen\u001b[39m(key) \u001b[38;5;241m>\u001b[39m \u001b[38;5;241m1\u001b[39m:\n\u001b[0;32m   1408\u001b[0m     \u001b[38;5;66;03m# if len == 1, then it becomes a SeriesGroupBy and this is actually\u001b[39;00m\n\u001b[0;32m   1409\u001b[0m     \u001b[38;5;66;03m# valid syntax, so don't raise warning\u001b[39;00m\n\u001b[0;32m   1410\u001b[0m     warnings\u001b[38;5;241m.\u001b[39mwarn(\n\u001b[0;32m   1411\u001b[0m         \u001b[38;5;124m\"\u001b[39m\u001b[38;5;124mIndexing with multiple keys (implicitly converted to a tuple \u001b[39m\u001b[38;5;124m\"\u001b[39m\n\u001b[0;32m   1412\u001b[0m         \u001b[38;5;124m\"\u001b[39m\u001b[38;5;124mof keys) will be deprecated, use a list instead.\u001b[39m\u001b[38;5;124m\"\u001b[39m,\n\u001b[0;32m   1413\u001b[0m         \u001b[38;5;167;01mFutureWarning\u001b[39;00m,\n\u001b[0;32m   1414\u001b[0m         stacklevel\u001b[38;5;241m=\u001b[39mfind_stack_level(),\n\u001b[0;32m   1415\u001b[0m     )\n\u001b[1;32m-> 1416\u001b[0m \u001b[38;5;28;01mreturn\u001b[39;00m \u001b[38;5;28;43msuper\u001b[39;49m\u001b[43m(\u001b[49m\u001b[43m)\u001b[49m\u001b[38;5;241;43m.\u001b[39;49m\u001b[38;5;21;43m__getitem__\u001b[39;49m\u001b[43m(\u001b[49m\u001b[43mkey\u001b[49m\u001b[43m)\u001b[49m\n",
      "File \u001b[1;32m~\\AppData\\Roaming\\Python\\Python311\\site-packages\\pandas\\core\\base.py:248\u001b[0m, in \u001b[0;36mSelectionMixin.__getitem__\u001b[1;34m(self, key)\u001b[0m\n\u001b[0;32m    246\u001b[0m \u001b[38;5;28;01melse\u001b[39;00m:\n\u001b[0;32m    247\u001b[0m     \u001b[38;5;28;01mif\u001b[39;00m key \u001b[38;5;129;01mnot\u001b[39;00m \u001b[38;5;129;01min\u001b[39;00m \u001b[38;5;28mself\u001b[39m\u001b[38;5;241m.\u001b[39mobj:\n\u001b[1;32m--> 248\u001b[0m         \u001b[38;5;28;01mraise\u001b[39;00m \u001b[38;5;167;01mKeyError\u001b[39;00m(\u001b[38;5;124mf\u001b[39m\u001b[38;5;124m\"\u001b[39m\u001b[38;5;124mColumn not found: \u001b[39m\u001b[38;5;132;01m{\u001b[39;00mkey\u001b[38;5;132;01m}\u001b[39;00m\u001b[38;5;124m\"\u001b[39m)\n\u001b[0;32m    249\u001b[0m     subset \u001b[38;5;241m=\u001b[39m \u001b[38;5;28mself\u001b[39m\u001b[38;5;241m.\u001b[39mobj[key]\n\u001b[0;32m    250\u001b[0m     ndim \u001b[38;5;241m=\u001b[39m subset\u001b[38;5;241m.\u001b[39mndim\n",
      "\u001b[1;31mKeyError\u001b[0m: 'Column not found: Sambhajinagar'"
     ]
    }
   ],
   "source": [
    "import pandas as pd\n",
    "\n",
    "# Read data from Excel file\n",
    "df1 = pd.read_excel(\"NovemberSheet.xlsx\")\n",
    "\n",
    "# Calculate Chennai revenue\n",
    "chennai_revenue = df1.groupby(\"Department\")[\"Chennai\"].sum()\n",
    "\n",
    "# Calculate Sambhajinagar revenue\n",
    "sambhajinagar_revenue = df1.groupby(\"Department\")[\"Sambhajinagar\"].sum()\n",
    "\n",
    "# Calculate total revenue\n",
    "total_revenue = df1[\"Fees\"].sum()\n",
    "\n",
    "# Generate monthly pay slips\n",
    "pay_slips = df1[[\"Department\", \"Chennai\", \"Sambhajinagar\"]]\n",
    "\n",
    "# Calculate cash flow report\n",
    "chennai_cash_flow = df1.groupby(\"Department\")[\"Chennai\"].sum()\n",
    "sambhajinagar_cash_flow = df1.groupby(\"Department\")[\"Sambhajinagar\"].sum()\n",
    "\n",
    "# Calculate balance sheet report\n",
    "chennai_balance_sheet = chennai_revenue\n",
    "sambhajinagar_balance_sheet = sambhajinagar_revenue\n",
    "\n",
    "# Calculate stakeholder distribution report\n",
    "chennai_profit = chennai_balance_sheet[\"Data Science\"] + chennai_balance_sheet[\"Data Analyst\"]\n",
    "sambhajinagar_profit = sambhajinagar_balance_sheet[\"Data Science\"] + sambhajinagar_balance_sheet[\"Data Analyst\"]"
   ]
  }
 ],
 "metadata": {
  "kernelspec": {
   "display_name": "Python 3 (ipykernel)",
   "language": "python",
   "name": "python3"
  },
  "language_info": {
   "codemirror_mode": {
    "name": "ipython",
    "version": 3
   },
   "file_extension": ".py",
   "mimetype": "text/x-python",
   "name": "python",
   "nbconvert_exporter": "python",
   "pygments_lexer": "ipython3",
   "version": "3.11.2"
  }
 },
 "nbformat": 4,
 "nbformat_minor": 5
}
