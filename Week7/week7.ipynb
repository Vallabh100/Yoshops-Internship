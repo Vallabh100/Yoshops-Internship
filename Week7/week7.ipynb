{
 "cells": [
  {
   "cell_type": "markdown",
   "id": "f37716dd",
   "metadata": {},
   "source": [
    "# December Payroll ATS"
   ]
  },
  {
   "cell_type": "code",
   "execution_count": 55,
   "id": "b3d635b6",
   "metadata": {},
   "outputs": [],
   "source": [
    "import pandas as pd\n",
    "\n",
    "# Read data from Excel file\n",
    "df = pd.read_excel(\"DecemberSheet.xlsx\")\n",
    "\n",
    "# Calculate Chennai revenue\n",
    "chennai_revenue = df.groupby(\"Department\")[\"Chennai\"].sum()\n",
    "\n",
    "# Calculate Sambhajinagar revenue\n",
    "sambhajinagar_revenue = df.groupby(\"Department\")[\"Sambhajinagar\"].sum()\n",
    "\n",
    "# Calculate total revenue\n",
    "total_revenue = df[\"Fees\"].sum()\n",
    "\n",
    "# Generate monthly pay slips\n",
    "pay_slips = df[[\"Department\", \"Chennai\", \"Sambhajinagar\"]]\n",
    "\n",
    "# Calculate cash flow report\n",
    "chennai_cash_flow = df.groupby(\"Department\")[\"Chennai\"].sum()\n",
    "sambhajinagar_cash_flow = df.groupby(\"Department\")[\"Sambhajinagar\"].sum()\n",
    "\n",
    "# Calculate balance sheet report\n",
    "chennai_balance_sheet = chennai_revenue\n",
    "sambhajinagar_balance_sheet = sambhajinagar_revenue\n",
    "\n",
    "# Calculate stakeholder distribution report\n",
    "chennai_profit = chennai_balance_sheet[\"Data Science\"] + chennai_balance_sheet[\"Data Analyst\"]\n",
    "sambhajinagar_profit = sambhajinagar_balance_sheet[\"Data Science\"] + sambhajinagar_balance_sheet[\"Data Analyst\"]"
   ]
  },
  {
   "cell_type": "code",
   "execution_count": 56,
   "id": "af9838ab",
   "metadata": {},
   "outputs": [
    {
     "name": "stdout",
     "output_type": "stream",
     "text": [
      "Pay slips generate monthly one time:\n",
      "       Department  Chennai  Sambhajinagar\n",
      "0    Data Science      100            399\n",
      "1    Data Science      100            399\n",
      "2    Data Science      100            399\n",
      "3    Data Science      100            399\n",
      "4    Data Analyst      200            299\n",
      "..            ...      ...            ...\n",
      "118  Data Science      100            399\n",
      "119  Data Science      100            399\n",
      "120  Data Science      100            399\n",
      "121  Data Science      100            399\n",
      "122  Data Science      100            399\n",
      "\n",
      "[123 rows x 3 columns]\n"
     ]
    }
   ],
   "source": [
    "print(\"Pay slips generate monthly one time:\")\n",
    "print(pay_slips)"
   ]
  },
  {
   "cell_type": "code",
   "execution_count": 57,
   "id": "e0e5d758",
   "metadata": {},
   "outputs": [
    {
     "name": "stdout",
     "output_type": "stream",
     "text": [
      "Cash flow report:\n",
      "\n",
      "Chennai:\n",
      " Department\n",
      "Data Analyst      999\n",
      "Data Science    15296\n",
      "Name: Chennai, dtype: int64\n",
      "\n",
      "Sambhajinagar:\n",
      " Department\n",
      "Data Analyst     1496\n",
      "Data Science    43586\n",
      "Name: Sambhajinagar, dtype: int64\n"
     ]
    }
   ],
   "source": [
    "print(\"Cash flow report:\\n\")\n",
    "print(\"Chennai:\\n\", chennai_cash_flow)\n",
    "print(\"\\nSambhajinagar:\\n\", sambhajinagar_cash_flow)"
   ]
  },
  {
   "cell_type": "code",
   "execution_count": 58,
   "id": "20ecd404",
   "metadata": {},
   "outputs": [
    {
     "name": "stdout",
     "output_type": "stream",
     "text": [
      "\n",
      "Balance Sheet report:\n",
      "\n",
      "Chennai:\n",
      "\n",
      " Department\n",
      "Data Analyst      999\n",
      "Data Science    15296\n",
      "Name: Chennai, dtype: int64\n",
      "\n",
      "\n",
      "Sambhajinagar:\n",
      "\n",
      " Department\n",
      "Data Analyst     1496\n",
      "Data Science    43586\n",
      "Name: Sambhajinagar, dtype: int64\n"
     ]
    }
   ],
   "source": [
    "print(\"\\nBalance Sheet report:\\n\")\n",
    "print(\"Chennai:\\n\\n\", chennai_balance_sheet)\n",
    "print(\"\\n\\nSambhajinagar:\\n\\n\", sambhajinagar_balance_sheet)"
   ]
  },
  {
   "cell_type": "code",
   "execution_count": 59,
   "id": "3664abdd",
   "metadata": {
    "scrolled": true
   },
   "outputs": [
    {
     "name": "stdout",
     "output_type": "stream",
     "text": [
      "Stack holder distribute(profit) report:\n",
      "\n",
      "Chennai Total Profit :  16295\n",
      "Sambhajinagar Franchise Total Profit :  45082\n"
     ]
    }
   ],
   "source": [
    "print(\"Stack holder distribute(profit) report:\")\n",
    "print(\"\\nChennai Total Profit : \",chennai_profit)\n",
    "print(\"Sambhajinagar Franchise Total Profit : \",sambhajinagar_profit)"
   ]
  }
 ],
 "metadata": {
  "kernelspec": {
   "display_name": "Python 3 (ipykernel)",
   "language": "python",
   "name": "python3"
  },
  "language_info": {
   "codemirror_mode": {
    "name": "ipython",
    "version": 3
   },
   "file_extension": ".py",
   "mimetype": "text/x-python",
   "name": "python",
   "nbconvert_exporter": "python",
   "pygments_lexer": "ipython3",
   "version": "3.11.2"
  }
 },
 "nbformat": 4,
 "nbformat_minor": 5
}
