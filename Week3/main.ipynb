{
 "cells": [
  {
   "cell_type": "code",
   "execution_count": 18,
   "id": "2cf1ad67",
   "metadata": {},
   "outputs": [],
   "source": [
    "# Create EDA using Test Data file(Yoshops.com Sale Order file) :\n",
    "# Input Value for genrate Graph chart:\n",
    "# Enter 1 to see the analysis of Reviews given by Customers\n",
    "# Enter 2 to see the analysis of different payment methods used by the Customers\n",
    "# Enter 3 to see the analysis of Top Consumer States of India\n",
    "# Enter 4 to see the analysis of Top Selling Product Categories\n",
    "# Enter 5 to see the analysis of Number of Orders Across Parts of a Day\n",
    "\n",
    "# Enter the number to see the analysis of your choice: 1"
   ]
  },
  {
   "cell_type": "code",
   "execution_count": 2,
   "id": "f2619718",
   "metadata": {},
   "outputs": [],
   "source": [
    "import numpy as np\n",
    "import pandas as pd\n",
    "import seaborn as sns\n",
    "import matplotlib.pyplot as plt\n",
    "import re"
   ]
  },
  {
   "cell_type": "code",
   "execution_count": 3,
   "id": "f14e68d5",
   "metadata": {},
   "outputs": [],
   "source": [
    "#Reading/Importing dataset\n",
    "orderData = pd.read_csv(\"orders.csv\")\n",
    "reviewData = pd.read_csv(\"review.csv\")"
   ]
  },
  {
   "cell_type": "code",
   "execution_count": 5,
   "id": "37e8ea9d",
   "metadata": {
    "scrolled": true
   },
   "outputs": [],
   "source": [
    "#Analysis of reviews given by customers\n",
    "\n",
    "def choice1():\n",
    "    reviewData.dropna(subset=['stars'], inplace=True)\n",
    "    # Define a regular expression to extract the numeric part of the star rating\n",
    "    pattern = r'(\\d\\.\\d)'\n",
    "    # Apply the regular expression to the 'stars' column and extract the numeric part\n",
    "    reviewData['stars'] = reviewData['stars'].astype(str)\n",
    "    reviewData['stars'] = reviewData['stars'].apply(lambda x: re.findall(pattern, x)[0]).astype(float)\n",
    "\n",
    "    reviewData['stars'] = pd.to_numeric(reviewData['stars'])\n",
    "\n",
    "    plt.hist(reviewData['stars'])\n",
    "    plt.xlabel('Star Rating')\n",
    "    plt.ylabel('Count')\n",
    "    plt.title('Distribution of Star Ratings')\n",
    "    plt.show()\n",
    "\n",
    "\n",
    "    avg_stars = reviewData.groupby('category')['stars'].mean().sort_values()\n",
    "    fig, ax = plt.subplots(figsize=(8, 15))\n",
    "    ax.barh(avg_stars.index, avg_stars.values)\n",
    "    ax.set_xlabel('Average star rating')\n",
    "    ax.set_ylabel('Category')\n",
    "    ax.set_title('Average star rating by category')\n",
    "    plt.subplots_adjust(left=0.3)\n",
    "    plt.show()"
   ]
  },
  {
   "cell_type": "code",
   "execution_count": 10,
   "id": "f8c1cb23",
   "metadata": {
    "scrolled": true
   },
   "outputs": [],
   "source": [
    "#Analysis of different payment methods used by the Customers\n",
    "\n",
    "def choice2():\n",
    "    filtered = orderData['Payment Method'].dropna()\n",
    "    split = filtered.str.split().str.get(0)\n",
    "    #finding unique modes available for payment\n",
    "    unique_modes = split.unique()\n",
    "    print(\"Different modes available for payment : \",unique_modes)\n",
    "\n",
    "    #counting payments done in each category\n",
    "    payment_method_counts = split.value_counts()\n",
    "\n",
    "    print(\"\\nNumber of payments done by Offline mode: \",payment_method_counts[0])\n",
    "    print(\"Number of payments done by CCAvenue mode: \",payment_method_counts[1])\n",
    "\n",
    "    plt.pie(payment_method_counts,labels=payment_method_counts)"
   ]
  },
  {
   "cell_type": "code",
   "execution_count": 11,
   "id": "ed73b2bc",
   "metadata": {
    "scrolled": true
   },
   "outputs": [],
   "source": [
    "#Analysis of Top Consumer States of India\n",
    "\n",
    "def choice3():\n",
    "    states = orderData['Shipping State']\n",
    "    #Retreiving top 10 consumer states\n",
    "    topStates = states.value_counts().head(10)\n",
    "    print(\"Top 10 consumer states are :\\n\",topStates)\n",
    "\n",
    "    #Plotting bar plot\n",
    "    plt.bar(topStates.index, topStates.values)\n",
    "    plt.xlabel('Shipping State')\n",
    "    plt.ylabel('Count')\n",
    "    plt.title('Top 10 Shipping States')\n",
    "    plt.show()"
   ]
  },
  {
   "cell_type": "code",
   "execution_count": 12,
   "id": "29be78f9",
   "metadata": {
    "scrolled": true
   },
   "outputs": [],
   "source": [
    "#Analysis of top reviewed product category and service cities\n",
    "\n",
    "def choice4():\n",
    "    topCategories = reviewData['category'].value_counts().head(10)\n",
    "    # create a scatter plot\n",
    "    plt.scatter(topCategories.index, topCategories.values)\n",
    "\n",
    "    # adjust x-axis labels\n",
    "    plt.xticks(rotation=45, ha='right')\n",
    "    plt.subplots_adjust(bottom=0.15)\n",
    "\n",
    "    # add axis labels and title\n",
    "    plt.xlabel('Categories')\n",
    "    plt.ylabel('Count')\n",
    "    plt.title('Top Product Categories')\n",
    "\n",
    "    # show the plot\n",
    "    plt.show()"
   ]
  },
  {
   "cell_type": "code",
   "execution_count": 13,
   "id": "d08e31ed",
   "metadata": {
    "scrolled": true
   },
   "outputs": [],
   "source": [
    "#Analysis of Number of Orders Across Parts of a Day\n",
    "\n",
    "def choice5():\n",
    "    # Load the data into a pandas DataFrame\n",
    "    df = orderData\n",
    "\n",
    "    # Extract the hour from the \"Order Date and Time Stamp\" column\n",
    "    df['Hour'] = pd.to_datetime(df['Order Date and Time Stamp']).dt.hour\n",
    "\n",
    "    # Categorize the hours into ranges of 3 hours\n",
    "    df['Hour Range'] = pd.cut(df['Hour'], bins=range(0, 25, 3), labels=['0-3', '3-6', '6-9', '9-12', '12-15', '15-18', '18-21', '21-24'])\n",
    "\n",
    "    # Group the data by hour range and count the number of occurrences\n",
    "    counts = df.groupby('Hour Range').size().reset_index(name='Count')\n",
    "\n",
    "    # Create a bar plot of the counts by hour range\n",
    "    plt.bar(counts['Hour Range'], counts['Count'])\n",
    "    plt.xlabel('Hour Range')\n",
    "    plt.ylabel('Count')\n",
    "    plt.show()"
   ]
  },
  {
   "cell_type": "code",
   "execution_count": 17,
   "id": "d62d1b70",
   "metadata": {},
   "outputs": [
    {
     "name": "stdout",
     "output_type": "stream",
     "text": [
      "Enter the number between 1 to 5 to see the analysis of your choice: 5\n"
     ]
    },
    {
     "data": {
      "image/png": "[encoded data removed]",
      "text/plain": [
       "<Figure size 640x480 with 1 Axes>"
      ]
     },
     "metadata": {},
     "output_type": "display_data"
    }
   ],
   "source": [
    "#Output according to user input\n",
    "choice = int(input(\"Enter the number between 1 to 5 to see the analysis of your choice: \"))\n",
    "if(choice == 1):\n",
    "    choice1()\n",
    "if(choice == 2):\n",
    "    choice2()\n",
    "if(choice == 3):\n",
    "    choice3()\n",
    "if(choice == 4):\n",
    "    choice4()\n",
    "if(choice == 5):\n",
    "    choice5()"
   ]
  }
 ],
 "metadata": {
  "kernelspec": {
   "display_name": "Python 3 (ipykernel)",
   "language": "python",
   "name": "python3"
  },
  "language_info": {
   "codemirror_mode": {
    "name": "ipython",
    "version": 3
   },
   "file_extension": ".py",
   "mimetype": "text/x-python",
   "name": "python",
   "nbconvert_exporter": "python",
   "pygments_lexer": "ipython3",
   "version": "3.11.2"
  }
 },
 "nbformat": 4,
 "nbformat_minor": 5
}
